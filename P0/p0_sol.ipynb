{
 "cells": [
  {
   "cell_type": "markdown",
   "id": "cd53abdb",
   "metadata": {},
   "source": [
    "# P0 - Estadísticas del corpus\n",
    "# En este notebook vamos a analizar el corpus tiny_cc_news.txt\n",
    "# y calcular estadísticas de frecuencia, riqueza léxica, n-gramas y la Ley de Zipf.\n"
   ]
  },
  {
   "cell_type": "code",
   "execution_count": 11,
   "id": "b369f155",
   "metadata": {},
   "outputs": [],
   "source": [
    "import matplotlib.pyplot as plt\n",
    "from collections import Counter\n",
    "import re\n"
   ]
  },
  {
   "cell_type": "code",
   "execution_count": 12,
   "id": "f45c0a3e",
   "metadata": {},
   "outputs": [
    {
     "data": {
      "text/plain": [
       "(41568, 1555)"
      ]
     },
     "execution_count": 12,
     "metadata": {},
     "output_type": "execute_result"
    }
   ],
   "source": [
    "# 1. Obtener los tokens del corpus\n",
    "with open(\"tiny_cc_news.txt\", \"r\", encoding=\"utf-8\") as f:\n",
    "    documentos = f.readlines()\n",
    "\n",
    "tokens_por_doc = [re.findall(r\"\\w+\", doc.lower()) for doc in documentos]\n",
    "tokens = [tok for doc in tokens_por_doc for tok in doc]\n",
    "\n",
    "len(tokens), len(documentos)\n"
   ]
  },
  {
   "cell_type": "code",
   "execution_count": 13,
   "id": "8747bbd2",
   "metadata": {},
   "outputs": [
    {
     "data": {
      "text/plain": [
       "198"
      ]
     },
     "execution_count": 13,
     "metadata": {},
     "output_type": "execute_result"
    }
   ],
   "source": [
    "# 2. Leer stopwords\n",
    "with open(\"stopwords.txt\", \"r\", encoding=\"utf-8\") as f:\n",
    "    stopwords = set(f.read().split())\n",
    "\n",
    "len(stopwords)\n"
   ]
  },
  {
   "cell_type": "code",
   "execution_count": 14,
   "id": "ba97283b",
   "metadata": {},
   "outputs": [
    {
     "data": {
      "text/plain": [
       "([('the', 2368), ('to', 1031), ('and', 986), ('a', 968), ('of', 907)],\n",
       " [('said', 154), ('new', 118), ('one', 98), ('year', 89), ('chair', 88)])"
      ]
     },
     "execution_count": 14,
     "metadata": {},
     "output_type": "execute_result"
    }
   ],
   "source": [
    "# 3. Frecuencias de tokens y tokens sin stopwords\n",
    "freq_tokens = Counter(tokens)\n",
    "tokens_no_stop = [t for t in tokens if t not in stopwords]\n",
    "freq_tokens_no_stop = Counter(tokens_no_stop)\n",
    "\n",
    "freq_tokens.most_common(5), freq_tokens_no_stop.most_common(5)\n"
   ]
  },
  {
   "cell_type": "code",
   "execution_count": 15,
   "id": "32795d0b",
   "metadata": {},
   "outputs": [
    {
     "name": "stdout",
     "output_type": "stream",
     "text": [
      "Número de documentos: 1555\n",
      "Número de tokens: 41568\n",
      "Número de stopwords: 16829\n",
      "Número de tokens sin stopwords: 24739\n",
      "Proporción de stopwords: 0.405\n",
      "Tamaño del vocabulario: 7638\n",
      "Tamaño del vocabulario sin stopwords: 7499\n",
      "Longitud media de documento: 26.731832797427654\n",
      "Longitud mínima/máxima de documento: 0 / 456\n",
      "Longitud media de token: 4.69878271747498\n",
      "Longitud mínima/máxima de token: 1 / 35\n",
      "Longitud media de tokens sin stopwords: 6.015036986135252\n",
      "Longitud mínima/máxima de tokens sin stopwords: 1 / 35\n"
     ]
    }
   ],
   "source": [
    "# 4. Estadísticas básicas del corpus\n",
    "num_docs = len(documentos)\n",
    "num_tokens = len(tokens)\n",
    "num_stopwords = sum(1 for t in tokens if t in stopwords)\n",
    "num_tokens_no_stop = len(tokens_no_stop)\n",
    "prop_stopwords = num_stopwords / num_tokens if num_tokens > 0 else 0\n",
    "\n",
    "vocab = set(tokens)\n",
    "vocab_no_stop = set(tokens_no_stop)\n",
    "\n",
    "doc_lengths = [len(doc) for doc in tokens_por_doc]\n",
    "token_lengths = [len(t) for t in tokens]\n",
    "token_lengths_no_stop = [len(t) for t in tokens_no_stop]\n",
    "\n",
    "print(\"Número de documentos:\", num_docs)\n",
    "print(\"Número de tokens:\", num_tokens)\n",
    "print(\"Número de stopwords:\", num_stopwords)\n",
    "print(\"Número de tokens sin stopwords:\", num_tokens_no_stop)\n",
    "print(\"Proporción de stopwords:\", round(prop_stopwords, 3))\n",
    "print(\"Tamaño del vocabulario:\", len(vocab))\n",
    "print(\"Tamaño del vocabulario sin stopwords:\", len(vocab_no_stop))\n",
    "print(\"Longitud media de documento:\", sum(doc_lengths)/len(doc_lengths))\n",
    "print(\"Longitud mínima/máxima de documento:\", min(doc_lengths), \"/\", max(doc_lengths))\n",
    "print(\"Longitud media de token:\", sum(token_lengths)/len(token_lengths))\n",
    "print(\"Longitud mínima/máxima de token:\", min(token_lengths), \"/\", max(token_lengths))\n",
    "print(\"Longitud media de tokens sin stopwords:\", sum(token_lengths_no_stop)/len(token_lengths_no_stop))\n",
    "print(\"Longitud mínima/máxima de tokens sin stopwords:\", min(token_lengths_no_stop), \"/\", max(token_lengths_no_stop))\n"
   ]
  },
  {
   "cell_type": "code",
   "execution_count": 16,
   "id": "faa0c6ac",
   "metadata": {},
   "outputs": [
    {
     "name": "stdout",
     "output_type": "stream",
     "text": [
      "Type-Token Ratio (TTR): 0.184\n",
      "Número de hapax legomena: 3936\n"
     ]
    }
   ],
   "source": [
    "# 5. Riqueza léxica\n",
    "ttr = len(vocab) / num_tokens\n",
    "hapax = sum(1 for t, c in freq_tokens.items() if c == 1)\n",
    "\n",
    "print(\"Type-Token Ratio (TTR):\", round(ttr, 3))\n",
    "print(\"Número de hapax legomena:\", hapax)\n"
   ]
  },
  {
   "cell_type": "code",
   "execution_count": 17,
   "id": "d2e82c62",
   "metadata": {},
   "outputs": [
    {
     "name": "stdout",
     "output_type": "stream",
     "text": [
      "Top 10 tokens más frecuentes:\n",
      "[('the', 2368), ('to', 1031), ('and', 986), ('a', 968), ('of', 907), ('in', 812), ('s', 501), ('for', 440), ('on', 376), ('that', 370)]\n",
      "\n",
      "Top 10 tokens más frecuentes (sin stopwords):\n",
      "[('said', 154), ('new', 118), ('one', 98), ('year', 89), ('chair', 88), ('also', 76), ('two', 74), ('back', 72), ('first', 68), ('time', 68)]\n"
     ]
    }
   ],
   "source": [
    "# 6. Tokens más frecuentes\n",
    "print(\"Top 10 tokens más frecuentes:\")\n",
    "print(freq_tokens.most_common(10))\n",
    "\n",
    "print(\"\\nTop 10 tokens más frecuentes (sin stopwords):\")\n",
    "print(freq_tokens_no_stop.most_common(10))\n"
   ]
  },
  {
   "cell_type": "code",
   "execution_count": 18,
   "id": "f680263b",
   "metadata": {},
   "outputs": [
    {
     "name": "stdout",
     "output_type": "stream",
     "text": [
      "Top 10 bigramas: [('of the', 245), ('in the', 211), ('to the', 116), ('on the', 97), ('for the', 71), ('at the', 69), ('in a', 66), ('to be', 65), ('with the', 63), ('it s', 60)]\n",
      "\n",
      "Top 10 trigramas: [('new york city', 24), ('one of the', 18), ('a pipe bomb', 18), ('according to the', 12), ('the new york', 12), ('in new york', 12), ('the associated press', 11), ('pipe bomb strapped', 11), ('bomb strapped to', 11), ('some of the', 10)]\n",
      "\n",
      "Top 10 bigramas (sin stopwords): [('new york', 48), ('pipe bomb', 27), ('york city', 24), ('shampoo chair', 24), ('year old', 21), ('law enforcement', 19), ('eastern lightning', 17), ('times square', 16), ('years ago', 14), ('white house', 14)]\n",
      "\n",
      "Top 10 trigramas (sin stopwords): [('new york city', 24), ('york city subway', 14), ('pipe bomb strapped', 11), ('morning rush hour', 10), ('condition anonymity authorized', 10), ('anonymity authorized speak', 10), ('law enforcement officials', 9), ('pipe bomb explosion', 9), ('inspired islamic state', 8), ('near times square', 7)]\n"
     ]
    }
   ],
   "source": [
    "# 7. Bigramas y trigramas\n",
    "def ngrams(lista, n=2):\n",
    "    return [\" \".join(lista[i:i+n]) for i in range(len(lista)-n+1)]\n",
    "\n",
    "bigrams = Counter(ngrams(tokens, 2))\n",
    "trigrams = Counter(ngrams(tokens, 3))\n",
    "\n",
    "bigrams_no_stop = Counter(ngrams(tokens_no_stop, 2))\n",
    "trigrams_no_stop = Counter(ngrams(tokens_no_stop, 3))\n",
    "\n",
    "print(\"Top 10 bigramas:\", bigrams.most_common(10))\n",
    "print(\"\\nTop 10 trigramas:\", trigrams.most_common(10))\n",
    "print(\"\\nTop 10 bigramas (sin stopwords):\", bigrams_no_stop.most_common(10))\n",
    "print(\"\\nTop 10 trigramas (sin stopwords):\", trigrams_no_stop.most_common(10))\n"
   ]
  },
  {
   "cell_type": "code",
   "execution_count": 19,
   "id": "0b468627",
   "metadata": {},
   "outputs": [
    {
     "data": {
      "image/png": "[encoded data removed]",
      "text/plain": [
       "<Figure size 600x400 with 1 Axes>"
      ]
     },
     "metadata": {},
     "output_type": "display_data"
    }
   ],
   "source": [
    "# 8. Ley de Zipf\n",
    "sorted_freqs = sorted(freq_tokens.values(), reverse=True)\n",
    "ranks = range(1, len(sorted_freqs) + 1)\n",
    "\n",
    "plt.figure(figsize=(6, 4))\n",
    "plt.plot(ranks, sorted_freqs, marker=\".\", linestyle=\"solid\")\n",
    "plt.title(\"Zipf's Law\")\n",
    "plt.xlabel(\"Rank\")\n",
    "plt.ylabel(\"Frequency\")\n",
    "plt.grid(True, which=\"both\", ls=\"--\", alpha=0.5)\n",
    "plt.show()\n"
   ]
  }
 ],
 "metadata": {
  "kernelspec": {
   "display_name": "PLN",
   "language": "python",
   "name": "python3"
  },
  "language_info": {
   "codemirror_mode": {
    "name": "ipython",
    "version": 3
   },
   "file_extension": ".py",
   "mimetype": "text/x-python",
   "name": "python",
   "nbconvert_exporter": "python",
   "pygments_lexer": "ipython3",
   "version": "3.12.3"
  }
 },
 "nbformat": 4,
 "nbformat_minor": 5
}
